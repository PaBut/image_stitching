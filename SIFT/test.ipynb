{
 "cells": [
  {
   "cell_type": "code",
   "execution_count": 2,
   "metadata": {},
   "outputs": [],
   "source": [
    "import tiles_loader"
   ]
  },
  {
   "cell_type": "code",
   "execution_count": 4,
   "metadata": {},
   "outputs": [
    {
     "name": "stdout",
     "output_type": "stream",
     "text": [
      "{(0, 0): 'ElectronTile0.png', (1, 0): 'ElectronTile1.png', (2, 0): 'ElectronTile2.png', (3, 0): 'ElectronTile3.png', (0, 1): 'ElectronTile4.png', (1, 1): 'ElectronTile5.png', (2, 1): 'ElectronTile6.png', (3, 1): 'ElectronTile7.png', (0, 2): 'ElectronTile8.png', (1, 2): 'ElectronTile9.png', (2, 2): 'ElectronTile10.png', (3, 2): 'ElectronTile11.png'}\n"
     ]
    }
   ],
   "source": [
    "loader = tiles_loader.TilesLoader(r\"C:\\Users\\pavlo.butenko\\Downloads\\tileset\", 3, 4)"
   ]
  },
  {
   "cell_type": "code",
   "execution_count": 2,
   "metadata": {},
   "outputs": [
    {
     "name": "stdout",
     "output_type": "stream",
     "text": [
      "{'path2': '0000011_10039.jpgLM', 'path1': '0000011_10032.jpgLM', 'matche_pts': [[(64, 268), (71, 268)], [(64, 249), (70, 248)], [(130, 247), (136, 246)], [(189, 245), (195, 244)], [(250, 262), (255, 259)], [(288, 257), (293, 258)], [(291, 242), (296, 241)], [(433, 191), (440, 192)], [(471, 201), (479, 199)]]}\n"
     ]
    }
   ],
   "source": [
    "import numpy as np\n",
    "\n",
    "\n",
    "array = np.load(r\"C:\\Users\\pavlo.butenko\\Downloads\\Contant-Aware-DeepH-Data\\Contant-Aware-DeepH-Data\\Data\\Coordinate\\0000011_10032.jpgLM_0000011_10039.jpgLM.npy\", allow_pickle=True)\n",
    "\n",
    "# paths = array[\"image_paths\"]\n",
    "\n",
    "# print(paths[paths != None].shape)\n",
    "\n",
    "print(array)"
   ]
  }
 ],
 "metadata": {
  "kernelspec": {
   "display_name": "Python 3",
   "language": "python",
   "name": "python3"
  },
  "language_info": {
   "codemirror_mode": {
    "name": "ipython",
    "version": 3
   },
   "file_extension": ".py",
   "mimetype": "text/x-python",
   "name": "python",
   "nbconvert_exporter": "python",
   "pygments_lexer": "ipython3",
   "version": "3.12.9"
  }
 },
 "nbformat": 4,
 "nbformat_minor": 2
}
